{
 "cells": [
  {
   "cell_type": "code",
   "execution_count": 330,
   "id": "cc54e5ac",
   "metadata": {},
   "outputs": [],
   "source": [
    "import pandas as pd\n",
    "import seaborn as sns\n",
    "import matplotlib.pyplot as plt"
   ]
  },
  {
   "cell_type": "markdown",
   "id": "71356656",
   "metadata": {},
   "source": [
    "# Load loan.csv file into system"
   ]
  },
  {
   "cell_type": "code",
   "execution_count": 331,
   "id": "8bcda96a",
   "metadata": {},
   "outputs": [
    {
     "name": "stderr",
     "output_type": "stream",
     "text": [
      "C:\\Users\\hp\\AppData\\Local\\Temp\\ipykernel_9180\\3134072375.py:1: DtypeWarning: Columns (47) have mixed types. Specify dtype option on import or set low_memory=False.\n",
      "  loanDataset = pd.read_csv(r'loan.csv')\n"
     ]
    }
   ],
   "source": [
    "loanDataset = pd.read_csv(r'loan.csv')"
   ]
  },
  {
   "cell_type": "code",
   "execution_count": 332,
   "id": "f31d21b0",
   "metadata": {},
   "outputs": [],
   "source": [
    "backupLoadDataset = loanDataset.copy()"
   ]
  },
  {
   "cell_type": "markdown",
   "id": "0b27c8f6",
   "metadata": {},
   "source": [
    "## Quick Data View"
   ]
  },
  {
   "cell_type": "code",
   "execution_count": 333,
   "id": "e7229efa",
   "metadata": {
    "scrolled": true
   },
   "outputs": [
    {
     "data": {
      "text/html": [
       "<div>\n",
       "<style scoped>\n",
       "    .dataframe tbody tr th:only-of-type {\n",
       "        vertical-align: middle;\n",
       "    }\n",
       "\n",
       "    .dataframe tbody tr th {\n",
       "        vertical-align: top;\n",
       "    }\n",
       "\n",
       "    .dataframe thead th {\n",
       "        text-align: right;\n",
       "    }\n",
       "</style>\n",
       "<table border=\"1\" class=\"dataframe\">\n",
       "  <thead>\n",
       "    <tr style=\"text-align: right;\">\n",
       "      <th></th>\n",
       "      <th>id</th>\n",
       "      <th>member_id</th>\n",
       "      <th>loan_amnt</th>\n",
       "      <th>funded_amnt</th>\n",
       "      <th>funded_amnt_inv</th>\n",
       "      <th>term</th>\n",
       "      <th>int_rate</th>\n",
       "      <th>installment</th>\n",
       "      <th>grade</th>\n",
       "      <th>sub_grade</th>\n",
       "      <th>...</th>\n",
       "      <th>num_tl_90g_dpd_24m</th>\n",
       "      <th>num_tl_op_past_12m</th>\n",
       "      <th>pct_tl_nvr_dlq</th>\n",
       "      <th>percent_bc_gt_75</th>\n",
       "      <th>pub_rec_bankruptcies</th>\n",
       "      <th>tax_liens</th>\n",
       "      <th>tot_hi_cred_lim</th>\n",
       "      <th>total_bal_ex_mort</th>\n",
       "      <th>total_bc_limit</th>\n",
       "      <th>total_il_high_credit_limit</th>\n",
       "    </tr>\n",
       "  </thead>\n",
       "  <tbody>\n",
       "    <tr>\n",
       "      <th>0</th>\n",
       "      <td>1077501</td>\n",
       "      <td>1296599</td>\n",
       "      <td>5000</td>\n",
       "      <td>5000</td>\n",
       "      <td>4975.0</td>\n",
       "      <td>36 months</td>\n",
       "      <td>10.65%</td>\n",
       "      <td>162.87</td>\n",
       "      <td>B</td>\n",
       "      <td>B2</td>\n",
       "      <td>...</td>\n",
       "      <td>NaN</td>\n",
       "      <td>NaN</td>\n",
       "      <td>NaN</td>\n",
       "      <td>NaN</td>\n",
       "      <td>0.0</td>\n",
       "      <td>0.0</td>\n",
       "      <td>NaN</td>\n",
       "      <td>NaN</td>\n",
       "      <td>NaN</td>\n",
       "      <td>NaN</td>\n",
       "    </tr>\n",
       "    <tr>\n",
       "      <th>1</th>\n",
       "      <td>1077430</td>\n",
       "      <td>1314167</td>\n",
       "      <td>2500</td>\n",
       "      <td>2500</td>\n",
       "      <td>2500.0</td>\n",
       "      <td>60 months</td>\n",
       "      <td>15.27%</td>\n",
       "      <td>59.83</td>\n",
       "      <td>C</td>\n",
       "      <td>C4</td>\n",
       "      <td>...</td>\n",
       "      <td>NaN</td>\n",
       "      <td>NaN</td>\n",
       "      <td>NaN</td>\n",
       "      <td>NaN</td>\n",
       "      <td>0.0</td>\n",
       "      <td>0.0</td>\n",
       "      <td>NaN</td>\n",
       "      <td>NaN</td>\n",
       "      <td>NaN</td>\n",
       "      <td>NaN</td>\n",
       "    </tr>\n",
       "    <tr>\n",
       "      <th>2</th>\n",
       "      <td>1077175</td>\n",
       "      <td>1313524</td>\n",
       "      <td>2400</td>\n",
       "      <td>2400</td>\n",
       "      <td>2400.0</td>\n",
       "      <td>36 months</td>\n",
       "      <td>15.96%</td>\n",
       "      <td>84.33</td>\n",
       "      <td>C</td>\n",
       "      <td>C5</td>\n",
       "      <td>...</td>\n",
       "      <td>NaN</td>\n",
       "      <td>NaN</td>\n",
       "      <td>NaN</td>\n",
       "      <td>NaN</td>\n",
       "      <td>0.0</td>\n",
       "      <td>0.0</td>\n",
       "      <td>NaN</td>\n",
       "      <td>NaN</td>\n",
       "      <td>NaN</td>\n",
       "      <td>NaN</td>\n",
       "    </tr>\n",
       "    <tr>\n",
       "      <th>3</th>\n",
       "      <td>1076863</td>\n",
       "      <td>1277178</td>\n",
       "      <td>10000</td>\n",
       "      <td>10000</td>\n",
       "      <td>10000.0</td>\n",
       "      <td>36 months</td>\n",
       "      <td>13.49%</td>\n",
       "      <td>339.31</td>\n",
       "      <td>C</td>\n",
       "      <td>C1</td>\n",
       "      <td>...</td>\n",
       "      <td>NaN</td>\n",
       "      <td>NaN</td>\n",
       "      <td>NaN</td>\n",
       "      <td>NaN</td>\n",
       "      <td>0.0</td>\n",
       "      <td>0.0</td>\n",
       "      <td>NaN</td>\n",
       "      <td>NaN</td>\n",
       "      <td>NaN</td>\n",
       "      <td>NaN</td>\n",
       "    </tr>\n",
       "    <tr>\n",
       "      <th>4</th>\n",
       "      <td>1075358</td>\n",
       "      <td>1311748</td>\n",
       "      <td>3000</td>\n",
       "      <td>3000</td>\n",
       "      <td>3000.0</td>\n",
       "      <td>60 months</td>\n",
       "      <td>12.69%</td>\n",
       "      <td>67.79</td>\n",
       "      <td>B</td>\n",
       "      <td>B5</td>\n",
       "      <td>...</td>\n",
       "      <td>NaN</td>\n",
       "      <td>NaN</td>\n",
       "      <td>NaN</td>\n",
       "      <td>NaN</td>\n",
       "      <td>0.0</td>\n",
       "      <td>0.0</td>\n",
       "      <td>NaN</td>\n",
       "      <td>NaN</td>\n",
       "      <td>NaN</td>\n",
       "      <td>NaN</td>\n",
       "    </tr>\n",
       "  </tbody>\n",
       "</table>\n",
       "<p>5 rows × 111 columns</p>\n",
       "</div>"
      ],
      "text/plain": [
       "        id  member_id  loan_amnt  funded_amnt  funded_amnt_inv        term  \\\n",
       "0  1077501    1296599       5000         5000           4975.0   36 months   \n",
       "1  1077430    1314167       2500         2500           2500.0   60 months   \n",
       "2  1077175    1313524       2400         2400           2400.0   36 months   \n",
       "3  1076863    1277178      10000        10000          10000.0   36 months   \n",
       "4  1075358    1311748       3000         3000           3000.0   60 months   \n",
       "\n",
       "  int_rate  installment grade sub_grade  ... num_tl_90g_dpd_24m  \\\n",
       "0   10.65%       162.87     B        B2  ...                NaN   \n",
       "1   15.27%        59.83     C        C4  ...                NaN   \n",
       "2   15.96%        84.33     C        C5  ...                NaN   \n",
       "3   13.49%       339.31     C        C1  ...                NaN   \n",
       "4   12.69%        67.79     B        B5  ...                NaN   \n",
       "\n",
       "  num_tl_op_past_12m pct_tl_nvr_dlq  percent_bc_gt_75 pub_rec_bankruptcies  \\\n",
       "0                NaN            NaN               NaN                  0.0   \n",
       "1                NaN            NaN               NaN                  0.0   \n",
       "2                NaN            NaN               NaN                  0.0   \n",
       "3                NaN            NaN               NaN                  0.0   \n",
       "4                NaN            NaN               NaN                  0.0   \n",
       "\n",
       "  tax_liens tot_hi_cred_lim total_bal_ex_mort total_bc_limit  \\\n",
       "0       0.0             NaN               NaN            NaN   \n",
       "1       0.0             NaN               NaN            NaN   \n",
       "2       0.0             NaN               NaN            NaN   \n",
       "3       0.0             NaN               NaN            NaN   \n",
       "4       0.0             NaN               NaN            NaN   \n",
       "\n",
       "  total_il_high_credit_limit  \n",
       "0                        NaN  \n",
       "1                        NaN  \n",
       "2                        NaN  \n",
       "3                        NaN  \n",
       "4                        NaN  \n",
       "\n",
       "[5 rows x 111 columns]"
      ]
     },
     "execution_count": 333,
     "metadata": {},
     "output_type": "execute_result"
    }
   ],
   "source": [
    "loanDataset.head()"
   ]
  },
  {
   "cell_type": "markdown",
   "id": "930ccd38",
   "metadata": {},
   "source": [
    "## Generate Metadata of the Data\n",
    "\n",
    "- **Count** of rows the Dataset\n",
    "- **Datatype description** of the rows as understood by Python\n",
    "- **Columns with NA** Records in Python\n",
    "- **Count of Columns** In the Dataset "
   ]
  },
  {
   "cell_type": "markdown",
   "id": "163f370d",
   "metadata": {},
   "source": [
    "### Count of Rows in the Dataset"
   ]
  },
  {
   "cell_type": "code",
   "execution_count": 334,
   "id": "015ae996",
   "metadata": {},
   "outputs": [
    {
     "name": "stdout",
     "output_type": "stream",
     "text": [
      "Total Number of Rows in the Dataset is:  39717\n"
     ]
    }
   ],
   "source": [
    "print(\"Total Number of Rows in the Dataset is: \", len(loanDataset.index))"
   ]
  },
  {
   "cell_type": "markdown",
   "id": "47759899",
   "metadata": {},
   "source": [
    "### Datatype of the columns in the dataset"
   ]
  },
  {
   "cell_type": "code",
   "execution_count": 335,
   "id": "250e6e39",
   "metadata": {
    "scrolled": true
   },
   "outputs": [
    {
     "data": {
      "text/plain": [
       "id                              int64\n",
       "member_id                       int64\n",
       "loan_amnt                       int64\n",
       "funded_amnt                     int64\n",
       "funded_amnt_inv               float64\n",
       "                               ...   \n",
       "tax_liens                     float64\n",
       "tot_hi_cred_lim               float64\n",
       "total_bal_ex_mort             float64\n",
       "total_bc_limit                float64\n",
       "total_il_high_credit_limit    float64\n",
       "Length: 111, dtype: object"
      ]
     },
     "execution_count": 335,
     "metadata": {},
     "output_type": "execute_result"
    }
   ],
   "source": [
    "loanDataset.dtypes"
   ]
  },
  {
   "cell_type": "markdown",
   "id": "0bec8823",
   "metadata": {},
   "source": [
    "### Columns with more than 90% Null Values in the Dataset"
   ]
  },
  {
   "cell_type": "code",
   "execution_count": 336,
   "id": "ab82b928",
   "metadata": {
    "scrolled": true
   },
   "outputs": [
    {
     "data": {
      "text/html": [
       "<div>\n",
       "<style scoped>\n",
       "    .dataframe tbody tr th:only-of-type {\n",
       "        vertical-align: middle;\n",
       "    }\n",
       "\n",
       "    .dataframe tbody tr th {\n",
       "        vertical-align: top;\n",
       "    }\n",
       "\n",
       "    .dataframe thead th {\n",
       "        text-align: right;\n",
       "    }\n",
       "</style>\n",
       "<table border=\"1\" class=\"dataframe\">\n",
       "  <thead>\n",
       "    <tr style=\"text-align: right;\">\n",
       "      <th></th>\n",
       "      <th>Percentage of Nulls</th>\n",
       "    </tr>\n",
       "  </thead>\n",
       "  <tbody>\n",
       "    <tr>\n",
       "      <th>mths_since_last_record</th>\n",
       "      <td>92.99</td>\n",
       "    </tr>\n",
       "    <tr>\n",
       "      <th>next_pymnt_d</th>\n",
       "      <td>97.13</td>\n",
       "    </tr>\n",
       "    <tr>\n",
       "      <th>mths_since_last_major_derog</th>\n",
       "      <td>100.00</td>\n",
       "    </tr>\n",
       "    <tr>\n",
       "      <th>annual_inc_joint</th>\n",
       "      <td>100.00</td>\n",
       "    </tr>\n",
       "    <tr>\n",
       "      <th>dti_joint</th>\n",
       "      <td>100.00</td>\n",
       "    </tr>\n",
       "    <tr>\n",
       "      <th>verification_status_joint</th>\n",
       "      <td>100.00</td>\n",
       "    </tr>\n",
       "    <tr>\n",
       "      <th>tot_coll_amt</th>\n",
       "      <td>100.00</td>\n",
       "    </tr>\n",
       "    <tr>\n",
       "      <th>tot_cur_bal</th>\n",
       "      <td>100.00</td>\n",
       "    </tr>\n",
       "    <tr>\n",
       "      <th>open_acc_6m</th>\n",
       "      <td>100.00</td>\n",
       "    </tr>\n",
       "    <tr>\n",
       "      <th>open_il_6m</th>\n",
       "      <td>100.00</td>\n",
       "    </tr>\n",
       "  </tbody>\n",
       "</table>\n",
       "</div>"
      ],
      "text/plain": [
       "                             Percentage of Nulls\n",
       "mths_since_last_record                     92.99\n",
       "next_pymnt_d                               97.13\n",
       "mths_since_last_major_derog               100.00\n",
       "annual_inc_joint                          100.00\n",
       "dti_joint                                 100.00\n",
       "verification_status_joint                 100.00\n",
       "tot_coll_amt                              100.00\n",
       "tot_cur_bal                               100.00\n",
       "open_acc_6m                               100.00\n",
       "open_il_6m                                100.00"
      ]
     },
     "execution_count": 336,
     "metadata": {},
     "output_type": "execute_result"
    }
   ],
   "source": [
    "# List of Columns with more than 90% data as Null\n",
    "\n",
    "countOfNull = pd.DataFrame(round((loanDataset.isnull().sum()/len(loanDataset.index))*100,2))\n",
    "countOfNull.rename(columns = {0:'Percentage of Nulls'},inplace = True)\n",
    "countOfNull[countOfNull['Percentage of Nulls'] > 90].head(10)"
   ]
  },
  {
   "cell_type": "markdown",
   "id": "f1d67486",
   "metadata": {},
   "source": [
    "### Count of Column in the Dataset"
   ]
  },
  {
   "cell_type": "code",
   "execution_count": 337,
   "id": "49397d5e",
   "metadata": {},
   "outputs": [
    {
     "name": "stdout",
     "output_type": "stream",
     "text": [
      "Total Number of Columns in the Dataset: 111\n"
     ]
    }
   ],
   "source": [
    "print(\"Total Number of Columns in the Dataset:\", loanDataset.shape[1])"
   ]
  },
  {
   "cell_type": "markdown",
   "id": "4945b3a1",
   "metadata": {},
   "source": [
    "## Remove columns with more than 90% data as null\n",
    "\n",
    "As these columns have almost 50% empty data they do not make any significant contributions to the EDA analysis. Also, since we cannot guess what these column values could be, it is best to not insert any dummy data into them and hence they can be dropped."
   ]
  },
  {
   "cell_type": "code",
   "execution_count": 338,
   "id": "5260038e",
   "metadata": {},
   "outputs": [],
   "source": [
    "# Drop columns that have more than 90% data as null from the dataset.\n",
    "\n",
    "listOfColumnsWithNull = countOfNull[countOfNull['Percentage of Nulls'] > 90].index.tolist()\n",
    "loanDataset.drop(listOfColumnsWithNull,axis = 1,inplace = True)"
   ]
  },
  {
   "cell_type": "markdown",
   "id": "77626089",
   "metadata": {},
   "source": [
    "## Removing unwanted columns which will have Zero impact in the EDA\n",
    "\n",
    "- ***ID***: ID of a customer will have no impact on his/her not being able to repay the loan, hence can be ignored\n",
    "- ***Member ID***: Similar to the ID, the member id who gave approved the loan will have zero or no impact"
   ]
  },
  {
   "cell_type": "code",
   "execution_count": 339,
   "id": "63b41b1e",
   "metadata": {},
   "outputs": [
    {
     "data": {
      "text/html": [
       "<div>\n",
       "<style scoped>\n",
       "    .dataframe tbody tr th:only-of-type {\n",
       "        vertical-align: middle;\n",
       "    }\n",
       "\n",
       "    .dataframe tbody tr th {\n",
       "        vertical-align: top;\n",
       "    }\n",
       "\n",
       "    .dataframe thead th {\n",
       "        text-align: right;\n",
       "    }\n",
       "</style>\n",
       "<table border=\"1\" class=\"dataframe\">\n",
       "  <thead>\n",
       "    <tr style=\"text-align: right;\">\n",
       "      <th></th>\n",
       "      <th>loan_amnt</th>\n",
       "      <th>funded_amnt</th>\n",
       "      <th>funded_amnt_inv</th>\n",
       "      <th>term</th>\n",
       "      <th>int_rate</th>\n",
       "      <th>installment</th>\n",
       "      <th>grade</th>\n",
       "      <th>sub_grade</th>\n",
       "      <th>emp_title</th>\n",
       "      <th>emp_length</th>\n",
       "      <th>...</th>\n",
       "      <th>last_pymnt_amnt</th>\n",
       "      <th>last_credit_pull_d</th>\n",
       "      <th>collections_12_mths_ex_med</th>\n",
       "      <th>policy_code</th>\n",
       "      <th>application_type</th>\n",
       "      <th>acc_now_delinq</th>\n",
       "      <th>chargeoff_within_12_mths</th>\n",
       "      <th>delinq_amnt</th>\n",
       "      <th>pub_rec_bankruptcies</th>\n",
       "      <th>tax_liens</th>\n",
       "    </tr>\n",
       "  </thead>\n",
       "  <tbody>\n",
       "    <tr>\n",
       "      <th>0</th>\n",
       "      <td>5000</td>\n",
       "      <td>5000</td>\n",
       "      <td>4975.0</td>\n",
       "      <td>36 months</td>\n",
       "      <td>10.65%</td>\n",
       "      <td>162.87</td>\n",
       "      <td>B</td>\n",
       "      <td>B2</td>\n",
       "      <td>NaN</td>\n",
       "      <td>10+ years</td>\n",
       "      <td>...</td>\n",
       "      <td>171.62</td>\n",
       "      <td>May-16</td>\n",
       "      <td>0.0</td>\n",
       "      <td>1</td>\n",
       "      <td>INDIVIDUAL</td>\n",
       "      <td>0</td>\n",
       "      <td>0.0</td>\n",
       "      <td>0</td>\n",
       "      <td>0.0</td>\n",
       "      <td>0.0</td>\n",
       "    </tr>\n",
       "    <tr>\n",
       "      <th>1</th>\n",
       "      <td>2500</td>\n",
       "      <td>2500</td>\n",
       "      <td>2500.0</td>\n",
       "      <td>60 months</td>\n",
       "      <td>15.27%</td>\n",
       "      <td>59.83</td>\n",
       "      <td>C</td>\n",
       "      <td>C4</td>\n",
       "      <td>Ryder</td>\n",
       "      <td>&lt; 1 year</td>\n",
       "      <td>...</td>\n",
       "      <td>119.66</td>\n",
       "      <td>Sep-13</td>\n",
       "      <td>0.0</td>\n",
       "      <td>1</td>\n",
       "      <td>INDIVIDUAL</td>\n",
       "      <td>0</td>\n",
       "      <td>0.0</td>\n",
       "      <td>0</td>\n",
       "      <td>0.0</td>\n",
       "      <td>0.0</td>\n",
       "    </tr>\n",
       "    <tr>\n",
       "      <th>2</th>\n",
       "      <td>2400</td>\n",
       "      <td>2400</td>\n",
       "      <td>2400.0</td>\n",
       "      <td>36 months</td>\n",
       "      <td>15.96%</td>\n",
       "      <td>84.33</td>\n",
       "      <td>C</td>\n",
       "      <td>C5</td>\n",
       "      <td>NaN</td>\n",
       "      <td>10+ years</td>\n",
       "      <td>...</td>\n",
       "      <td>649.91</td>\n",
       "      <td>May-16</td>\n",
       "      <td>0.0</td>\n",
       "      <td>1</td>\n",
       "      <td>INDIVIDUAL</td>\n",
       "      <td>0</td>\n",
       "      <td>0.0</td>\n",
       "      <td>0</td>\n",
       "      <td>0.0</td>\n",
       "      <td>0.0</td>\n",
       "    </tr>\n",
       "    <tr>\n",
       "      <th>3</th>\n",
       "      <td>10000</td>\n",
       "      <td>10000</td>\n",
       "      <td>10000.0</td>\n",
       "      <td>36 months</td>\n",
       "      <td>13.49%</td>\n",
       "      <td>339.31</td>\n",
       "      <td>C</td>\n",
       "      <td>C1</td>\n",
       "      <td>AIR RESOURCES BOARD</td>\n",
       "      <td>10+ years</td>\n",
       "      <td>...</td>\n",
       "      <td>357.48</td>\n",
       "      <td>Apr-16</td>\n",
       "      <td>0.0</td>\n",
       "      <td>1</td>\n",
       "      <td>INDIVIDUAL</td>\n",
       "      <td>0</td>\n",
       "      <td>0.0</td>\n",
       "      <td>0</td>\n",
       "      <td>0.0</td>\n",
       "      <td>0.0</td>\n",
       "    </tr>\n",
       "    <tr>\n",
       "      <th>4</th>\n",
       "      <td>3000</td>\n",
       "      <td>3000</td>\n",
       "      <td>3000.0</td>\n",
       "      <td>60 months</td>\n",
       "      <td>12.69%</td>\n",
       "      <td>67.79</td>\n",
       "      <td>B</td>\n",
       "      <td>B5</td>\n",
       "      <td>University Medical Group</td>\n",
       "      <td>1 year</td>\n",
       "      <td>...</td>\n",
       "      <td>67.79</td>\n",
       "      <td>May-16</td>\n",
       "      <td>0.0</td>\n",
       "      <td>1</td>\n",
       "      <td>INDIVIDUAL</td>\n",
       "      <td>0</td>\n",
       "      <td>0.0</td>\n",
       "      <td>0</td>\n",
       "      <td>0.0</td>\n",
       "      <td>0.0</td>\n",
       "    </tr>\n",
       "    <tr>\n",
       "      <th>5</th>\n",
       "      <td>5000</td>\n",
       "      <td>5000</td>\n",
       "      <td>5000.0</td>\n",
       "      <td>36 months</td>\n",
       "      <td>7.90%</td>\n",
       "      <td>156.46</td>\n",
       "      <td>A</td>\n",
       "      <td>A4</td>\n",
       "      <td>Veolia Transportaton</td>\n",
       "      <td>3 years</td>\n",
       "      <td>...</td>\n",
       "      <td>161.03</td>\n",
       "      <td>Jan-16</td>\n",
       "      <td>0.0</td>\n",
       "      <td>1</td>\n",
       "      <td>INDIVIDUAL</td>\n",
       "      <td>0</td>\n",
       "      <td>0.0</td>\n",
       "      <td>0</td>\n",
       "      <td>0.0</td>\n",
       "      <td>0.0</td>\n",
       "    </tr>\n",
       "    <tr>\n",
       "      <th>6</th>\n",
       "      <td>7000</td>\n",
       "      <td>7000</td>\n",
       "      <td>7000.0</td>\n",
       "      <td>60 months</td>\n",
       "      <td>15.96%</td>\n",
       "      <td>170.08</td>\n",
       "      <td>C</td>\n",
       "      <td>C5</td>\n",
       "      <td>Southern Star Photography</td>\n",
       "      <td>8 years</td>\n",
       "      <td>...</td>\n",
       "      <td>1313.76</td>\n",
       "      <td>May-16</td>\n",
       "      <td>0.0</td>\n",
       "      <td>1</td>\n",
       "      <td>INDIVIDUAL</td>\n",
       "      <td>0</td>\n",
       "      <td>0.0</td>\n",
       "      <td>0</td>\n",
       "      <td>0.0</td>\n",
       "      <td>0.0</td>\n",
       "    </tr>\n",
       "    <tr>\n",
       "      <th>7</th>\n",
       "      <td>3000</td>\n",
       "      <td>3000</td>\n",
       "      <td>3000.0</td>\n",
       "      <td>36 months</td>\n",
       "      <td>18.64%</td>\n",
       "      <td>109.43</td>\n",
       "      <td>E</td>\n",
       "      <td>E1</td>\n",
       "      <td>MKC Accounting</td>\n",
       "      <td>9 years</td>\n",
       "      <td>...</td>\n",
       "      <td>111.34</td>\n",
       "      <td>Dec-14</td>\n",
       "      <td>0.0</td>\n",
       "      <td>1</td>\n",
       "      <td>INDIVIDUAL</td>\n",
       "      <td>0</td>\n",
       "      <td>0.0</td>\n",
       "      <td>0</td>\n",
       "      <td>0.0</td>\n",
       "      <td>0.0</td>\n",
       "    </tr>\n",
       "    <tr>\n",
       "      <th>8</th>\n",
       "      <td>5600</td>\n",
       "      <td>5600</td>\n",
       "      <td>5600.0</td>\n",
       "      <td>60 months</td>\n",
       "      <td>21.28%</td>\n",
       "      <td>152.39</td>\n",
       "      <td>F</td>\n",
       "      <td>F2</td>\n",
       "      <td>NaN</td>\n",
       "      <td>4 years</td>\n",
       "      <td>...</td>\n",
       "      <td>152.39</td>\n",
       "      <td>Aug-12</td>\n",
       "      <td>0.0</td>\n",
       "      <td>1</td>\n",
       "      <td>INDIVIDUAL</td>\n",
       "      <td>0</td>\n",
       "      <td>0.0</td>\n",
       "      <td>0</td>\n",
       "      <td>0.0</td>\n",
       "      <td>0.0</td>\n",
       "    </tr>\n",
       "    <tr>\n",
       "      <th>9</th>\n",
       "      <td>5375</td>\n",
       "      <td>5375</td>\n",
       "      <td>5350.0</td>\n",
       "      <td>60 months</td>\n",
       "      <td>12.69%</td>\n",
       "      <td>121.45</td>\n",
       "      <td>B</td>\n",
       "      <td>B5</td>\n",
       "      <td>Starbucks</td>\n",
       "      <td>&lt; 1 year</td>\n",
       "      <td>...</td>\n",
       "      <td>121.45</td>\n",
       "      <td>Mar-13</td>\n",
       "      <td>0.0</td>\n",
       "      <td>1</td>\n",
       "      <td>INDIVIDUAL</td>\n",
       "      <td>0</td>\n",
       "      <td>0.0</td>\n",
       "      <td>0</td>\n",
       "      <td>0.0</td>\n",
       "      <td>0.0</td>\n",
       "    </tr>\n",
       "  </tbody>\n",
       "</table>\n",
       "<p>10 rows × 53 columns</p>\n",
       "</div>"
      ],
      "text/plain": [
       "   loan_amnt  funded_amnt  funded_amnt_inv        term int_rate  installment  \\\n",
       "0       5000         5000           4975.0   36 months   10.65%       162.87   \n",
       "1       2500         2500           2500.0   60 months   15.27%        59.83   \n",
       "2       2400         2400           2400.0   36 months   15.96%        84.33   \n",
       "3      10000        10000          10000.0   36 months   13.49%       339.31   \n",
       "4       3000         3000           3000.0   60 months   12.69%        67.79   \n",
       "5       5000         5000           5000.0   36 months    7.90%       156.46   \n",
       "6       7000         7000           7000.0   60 months   15.96%       170.08   \n",
       "7       3000         3000           3000.0   36 months   18.64%       109.43   \n",
       "8       5600         5600           5600.0   60 months   21.28%       152.39   \n",
       "9       5375         5375           5350.0   60 months   12.69%       121.45   \n",
       "\n",
       "  grade sub_grade                  emp_title emp_length  ... last_pymnt_amnt  \\\n",
       "0     B        B2                        NaN  10+ years  ...          171.62   \n",
       "1     C        C4                      Ryder   < 1 year  ...          119.66   \n",
       "2     C        C5                        NaN  10+ years  ...          649.91   \n",
       "3     C        C1        AIR RESOURCES BOARD  10+ years  ...          357.48   \n",
       "4     B        B5   University Medical Group     1 year  ...           67.79   \n",
       "5     A        A4       Veolia Transportaton    3 years  ...          161.03   \n",
       "6     C        C5  Southern Star Photography    8 years  ...         1313.76   \n",
       "7     E        E1            MKC Accounting     9 years  ...          111.34   \n",
       "8     F        F2                        NaN    4 years  ...          152.39   \n",
       "9     B        B5                  Starbucks   < 1 year  ...          121.45   \n",
       "\n",
       "   last_credit_pull_d collections_12_mths_ex_med policy_code application_type  \\\n",
       "0              May-16                        0.0           1       INDIVIDUAL   \n",
       "1              Sep-13                        0.0           1       INDIVIDUAL   \n",
       "2              May-16                        0.0           1       INDIVIDUAL   \n",
       "3              Apr-16                        0.0           1       INDIVIDUAL   \n",
       "4              May-16                        0.0           1       INDIVIDUAL   \n",
       "5              Jan-16                        0.0           1       INDIVIDUAL   \n",
       "6              May-16                        0.0           1       INDIVIDUAL   \n",
       "7              Dec-14                        0.0           1       INDIVIDUAL   \n",
       "8              Aug-12                        0.0           1       INDIVIDUAL   \n",
       "9              Mar-13                        0.0           1       INDIVIDUAL   \n",
       "\n",
       "  acc_now_delinq chargeoff_within_12_mths delinq_amnt pub_rec_bankruptcies  \\\n",
       "0              0                      0.0           0                  0.0   \n",
       "1              0                      0.0           0                  0.0   \n",
       "2              0                      0.0           0                  0.0   \n",
       "3              0                      0.0           0                  0.0   \n",
       "4              0                      0.0           0                  0.0   \n",
       "5              0                      0.0           0                  0.0   \n",
       "6              0                      0.0           0                  0.0   \n",
       "7              0                      0.0           0                  0.0   \n",
       "8              0                      0.0           0                  0.0   \n",
       "9              0                      0.0           0                  0.0   \n",
       "\n",
       "  tax_liens  \n",
       "0       0.0  \n",
       "1       0.0  \n",
       "2       0.0  \n",
       "3       0.0  \n",
       "4       0.0  \n",
       "5       0.0  \n",
       "6       0.0  \n",
       "7       0.0  \n",
       "8       0.0  \n",
       "9       0.0  \n",
       "\n",
       "[10 rows x 53 columns]"
      ]
     },
     "execution_count": 339,
     "metadata": {},
     "output_type": "execute_result"
    }
   ],
   "source": [
    "# Drop unwated columns from analysis\n",
    "loanDataset.drop(['id','member_id'],axis = 1,inplace = True)\n",
    "\n",
    "# Print the top 10 rows of the dataset\n",
    "loanDataset.head(10)"
   ]
  },
  {
   "cell_type": "markdown",
   "id": "9ce707a8",
   "metadata": {},
   "source": [
    "### Drop columns that give no information\n",
    "\n",
    "- **Application Type**: All the data in this column is Individual and hence safe to drop the column from the analysis\n",
    "- **acc_now_delinq**: All the data in this column is 0 and hence can be dropped from EDA\n",
    "- **Policy Code**: The data provided entails to the single policy code and hence safe to drop the column from analysis\n",
    "- **collections_12_mths_ex_med**: Have all the values as 0 and can be dropped from analysis\n",
    "- **tax_liens**: Have all the values as 0 and can be dropped from analysis\n",
    "- **chargeoff_within_12_mths**: Have all the values as 0 and can be dropped from analysis\n",
    "- **delinq_amnt**: Have all the values as 0 and can be dropped from analysis\n",
    "- **url**: As it is unique for each loan sanctioned\n",
    "- **zip_code**: This information is already captured in addr_state"
   ]
  },
  {
   "cell_type": "code",
   "execution_count": 340,
   "id": "4510d26a",
   "metadata": {},
   "outputs": [],
   "source": [
    "loanDataset.drop(['application_type','pymnt_plan','acc_now_delinq','collections_12_mths_ex_med','tax_liens','zip_code','desc','url','chargeoff_within_12_mths','delinq_amnt','policy_code','funded_amnt','funded_amnt_inv','issue_d','verification_status'],axis = 1, inplace = True)"
   ]
  },
  {
   "cell_type": "code",
   "execution_count": 341,
   "id": "9b67d696",
   "metadata": {},
   "outputs": [
    {
     "data": {
      "text/plain": [
       "<Axes: ylabel='annual_inc'>"
      ]
     },
     "execution_count": 341,
     "metadata": {},
     "output_type": "execute_result"
    },
    {
     "data": {
      "image/png": "[encoded data removed]",
      "text/plain": [
       "<Figure size 640x480 with 1 Axes>"
      ]
     },
     "metadata": {},
     "output_type": "display_data"
    }
   ],
   "source": [
    "sns.boxplot(y = loanDataset['annual_inc'])"
   ]
  },
  {
   "cell_type": "markdown",
   "id": "1f5c588c",
   "metadata": {},
   "source": [
    "The data has outliers in the annual_income"
   ]
  },
  {
   "cell_type": "code",
   "execution_count": 342,
   "id": "e4260f9b",
   "metadata": {
    "scrolled": true
   },
   "outputs": [],
   "source": [
    "Q_25 = loanDataset['annual_inc'].quantile(0.25)\n",
    "Q_75 = loanDataset['annual_inc'].quantile(0.75)\n",
    "IQR = Q_75 - Q_25\n",
    "\n",
    "# Drop outlier records from analysis\n",
    "copyLoanDatasetOutlierRemoved = loanDataset.drop(list(loanDataset[loanDataset['annual_inc'] > IQR*1.5].index), axis = 0)"
   ]
  },
  {
   "cell_type": "code",
   "execution_count": 343,
   "id": "929abefc",
   "metadata": {},
   "outputs": [
    {
     "data": {
      "text/plain": [
       "<Axes: ylabel='annual_inc'>"
      ]
     },
     "execution_count": 343,
     "metadata": {},
     "output_type": "execute_result"
    },
    {
     "data": {
      "image/png": "[encoded data removed]",
      "text/plain": [
       "<Figure size 640x480 with 1 Axes>"
      ]
     },
     "metadata": {},
     "output_type": "display_data"
    }
   ],
   "source": [
    "sns.boxplot(y = copyLoanDatasetOutlierRemoved['annual_inc'])"
   ]
  },
  {
   "cell_type": "markdown",
   "id": "ee880e07",
   "metadata": {},
   "source": [
    "## Drop rows with NaN records"
   ]
  },
  {
   "cell_type": "code",
   "execution_count": 344,
   "id": "ebc3c2ce",
   "metadata": {},
   "outputs": [],
   "source": [
    "loanDataset.drop(loanDataset[loanDataset['emp_length'].isnull() == True].index.tolist(),axis = 0, inplace = True)\n",
    "loanDataset.drop(loanDataset[loanDataset['emp_title'].isnull() == True].index.tolist(),axis = 0, inplace = True)"
   ]
  },
  {
   "cell_type": "markdown",
   "id": "83ef981f",
   "metadata": {},
   "source": [
    "loanDataset.to_csv(r'C:\\Users\\hp\\Desktop\\ML & AL Program Upgrad\\Source Files\\loan\\loanCleaned.csv')"
   ]
  },
  {
   "cell_type": "code",
   "execution_count": 345,
   "id": "87e51cff",
   "metadata": {},
   "outputs": [],
   "source": [
    "loanDataset['int_rate'] = loanDataset['int_rate'].apply(lambda x: x.replace(\"%\",\"\"))\n",
    "loanDataset['int_rate'] = loanDataset['int_rate'].astype(float)"
   ]
  },
  {
   "cell_type": "code",
   "execution_count": 346,
   "id": "edc426e3",
   "metadata": {},
   "outputs": [
    {
     "data": {
      "text/plain": [
       "array(['< 1 year', '10+ years', '1 year', '3 years', '8 years', '9 years',\n",
       "       '5 years', '4 years', '6 years', '2 years', '7 years'],\n",
       "      dtype=object)"
      ]
     },
     "execution_count": 346,
     "metadata": {},
     "output_type": "execute_result"
    }
   ],
   "source": [
    "loanDataset['emp_length'].unique()"
   ]
  },
  {
   "cell_type": "code",
   "execution_count": 347,
   "id": "4bbe08c6",
   "metadata": {},
   "outputs": [],
   "source": [
    "def experienceYearClassification(df):\n",
    "    blankDataframe = pd.DataFrame(index = range(0,len(df['emp_length'])),columns = ['employee_exp'])\n",
    "    blankDataframe['employee_exp'] = df['emp_length']\n",
    "    \n",
    "    for i in range(0,len(df['emp_length'])):\n",
    "        if df['emp_length'].iloc[i] in ['1 year','2 years', '3 years']:\n",
    "            blankDataframe['employee_exp'].iloc[i] = '1 - 3 years'\n",
    "        elif df['emp_length'].iloc[i] in ['4 years', '5 years','6 years']:\n",
    "            blankDataframe['employee_exp'].iloc[i] = '4 - 6 years'\n",
    "        elif df['emp_length'].iloc[i] in ['7 years', '8 years','9 years']:\n",
    "            blankDataframe['employee_exp'].iloc[i] = '7 - 9 years'\n",
    "        else:\n",
    "            blankDataframe['employee_exp'].iloc[i] = df['emp_length'].iloc[i]\n",
    "    return blankDataframe['employee_exp']"
   ]
  },
  {
   "cell_type": "code",
   "execution_count": 348,
   "id": "15384cab",
   "metadata": {},
   "outputs": [],
   "source": [
    "#loanDataset['MonthName'] = loanDataset['issue_d'].apply(lambda x: x[:3])"
   ]
  },
  {
   "cell_type": "code",
   "execution_count": 349,
   "id": "9bae4ea4",
   "metadata": {},
   "outputs": [],
   "source": [
    "loanDataset['Experience_Years'] = experienceYearClassification(loanDataset)"
   ]
  },
  {
   "cell_type": "markdown",
   "id": "1f046cb4",
   "metadata": {},
   "source": [
    "## Looking at the average and median values of income and interest rate against Loan Status\n",
    "\n",
    "### Annual Income, Interest Rate & Loan Amount (Affects)\n",
    "- Looking at the below numbers, it is clear that the people who defaulted (charged off) have lower income by 10% as against the people who Fully Paid the Load.\n",
    "- Secondly, as can be observed from the numbers, the interest rate plays a vital role. At the look of the the interest rate of people charged off is more than those who are able to fully pay the load\n",
    "- Thirdly, even though the income of the people who charge off is less than the avg income of the people who don't with same experience level, the amount of loan taken by the people who charged off is generally higher than people who repay the loan in time.\n",
    "\n",
    "Hence, people are likely to default less if the ***interest rate is reduced***\n",
    "\n",
    "### Verified Status (Doesn't)\n",
    "- As can be seen from below, ***verification status does not*** have much to do with the charge off. We can see a lot of unverified income people able to repay their loan\n",
    "\n",
    "### Loan Time Period (Affects)\n",
    "- There is a 22% point dip in the people who payoff the loan when taking loan for 60 months (67%) as compared to those taking for 36 months (89%).\n",
    "- Also, the interest rate of loan on an avg for 60 months period is more than for 36 months period\n",
    "- At the same time % of people not being able to pay increase from 10% to 22% from 36 to 60 months\n",
    "\n",
    "### Installment (Doesn't)"
   ]
  },
  {
   "cell_type": "code",
   "execution_count": 350,
   "id": "bd349388",
   "metadata": {},
   "outputs": [
    {
     "data": {
      "text/html": [
       "<div>\n",
       "<style scoped>\n",
       "    .dataframe tbody tr th:only-of-type {\n",
       "        vertical-align: middle;\n",
       "    }\n",
       "\n",
       "    .dataframe tbody tr th {\n",
       "        vertical-align: top;\n",
       "    }\n",
       "\n",
       "    .dataframe thead th {\n",
       "        text-align: right;\n",
       "    }\n",
       "</style>\n",
       "<table border=\"1\" class=\"dataframe\">\n",
       "  <thead>\n",
       "    <tr style=\"text-align: right;\">\n",
       "      <th></th>\n",
       "      <th>annual_inc</th>\n",
       "      <th>int_rate</th>\n",
       "      <th>loan_amnt</th>\n",
       "    </tr>\n",
       "    <tr>\n",
       "      <th>loan_status</th>\n",
       "      <th></th>\n",
       "      <th></th>\n",
       "      <th></th>\n",
       "    </tr>\n",
       "  </thead>\n",
       "  <tbody>\n",
       "    <tr>\n",
       "      <th>Charged Off</th>\n",
       "      <td>54000.0</td>\n",
       "      <td>13.61</td>\n",
       "      <td>10000</td>\n",
       "    </tr>\n",
       "    <tr>\n",
       "      <th>Current</th>\n",
       "      <td>65000.0</td>\n",
       "      <td>14.65</td>\n",
       "      <td>16000</td>\n",
       "    </tr>\n",
       "    <tr>\n",
       "      <th>Fully Paid</th>\n",
       "      <td>60000.0</td>\n",
       "      <td>11.49</td>\n",
       "      <td>9600</td>\n",
       "    </tr>\n",
       "  </tbody>\n",
       "</table>\n",
       "</div>"
      ],
      "text/plain": [
       "             annual_inc  int_rate  loan_amnt\n",
       "loan_status                                 \n",
       "Charged Off     54000.0     13.61      10000\n",
       "Current         65000.0     14.65      16000\n",
       "Fully Paid      60000.0     11.49       9600"
      ]
     },
     "execution_count": 350,
     "metadata": {},
     "output_type": "execute_result"
    }
   ],
   "source": [
    "# Create a pivot table to check the median income for people grouped by loan status\n",
    "\n",
    "pd.pivot_table(loanDataset,values = ['int_rate','annual_inc','loan_amnt'],index = ['loan_status'],aggfunc = {'int_rate':\"median\",'annual_inc':\"median\",'loan_amnt':'median'})"
   ]
  },
  {
   "cell_type": "code",
   "execution_count": 351,
   "id": "e1e0427a",
   "metadata": {
    "scrolled": true
   },
   "outputs": [
    {
     "data": {
      "image/png": "[encoded data removed]",
      "text/plain": [
       "<Figure size 640x480 with 1 Axes>"
      ]
     },
     "metadata": {},
     "output_type": "display_data"
    }
   ],
   "source": [
    "AvgInterestRate = pd.pivot_table(loanDataset,values = ['int_rate','annual_inc','loan_amnt'],index = ['loan_status'],aggfunc = {'int_rate':\"mean\",'annual_inc':\"mean\",'loan_amnt':\"mean\"})\n",
    "AvgInterestRate = AvgInterestRate.reset_index()\n",
    "ax = sns.barplot(data = AvgInterestRate,x = 'loan_status',y = 'int_rate', width = 0.4)\n",
    "for i in ax.containers:\n",
    "    ax.bar_label(i,)"
   ]
  },
  {
   "cell_type": "markdown",
   "id": "568bc0dd",
   "metadata": {},
   "source": [
    "In general people who default pay more interest than people who are not"
   ]
  },
  {
   "cell_type": "code",
   "execution_count": 352,
   "id": "7625b75d",
   "metadata": {},
   "outputs": [
    {
     "data": {
      "text/html": [
       "<div>\n",
       "<style scoped>\n",
       "    .dataframe tbody tr th:only-of-type {\n",
       "        vertical-align: middle;\n",
       "    }\n",
       "\n",
       "    .dataframe tbody tr th {\n",
       "        vertical-align: top;\n",
       "    }\n",
       "\n",
       "    .dataframe thead th {\n",
       "        text-align: right;\n",
       "    }\n",
       "</style>\n",
       "<table border=\"1\" class=\"dataframe\">\n",
       "  <thead>\n",
       "    <tr style=\"text-align: right;\">\n",
       "      <th></th>\n",
       "      <th></th>\n",
       "      <th>annual_inc</th>\n",
       "      <th>installment</th>\n",
       "      <th>int_rate</th>\n",
       "      <th>loan_amnt</th>\n",
       "    </tr>\n",
       "    <tr>\n",
       "      <th>loan_status</th>\n",
       "      <th>term</th>\n",
       "      <th></th>\n",
       "      <th></th>\n",
       "      <th></th>\n",
       "      <th></th>\n",
       "    </tr>\n",
       "  </thead>\n",
       "  <tbody>\n",
       "    <tr>\n",
       "      <th rowspan=\"2\" valign=\"top\">Charged Off</th>\n",
       "      <th>36 months</th>\n",
       "      <td>50000.0</td>\n",
       "      <td>262.330</td>\n",
       "      <td>12.53</td>\n",
       "      <td>8000</td>\n",
       "    </tr>\n",
       "    <tr>\n",
       "      <th>60 months</th>\n",
       "      <td>59020.0</td>\n",
       "      <td>348.385</td>\n",
       "      <td>16.02</td>\n",
       "      <td>15000</td>\n",
       "    </tr>\n",
       "    <tr>\n",
       "      <th>Current</th>\n",
       "      <th>60 months</th>\n",
       "      <td>65000.0</td>\n",
       "      <td>369.210</td>\n",
       "      <td>14.65</td>\n",
       "      <td>16000</td>\n",
       "    </tr>\n",
       "    <tr>\n",
       "      <th rowspan=\"2\" valign=\"top\">Fully Paid</th>\n",
       "      <th>36 months</th>\n",
       "      <td>58000.0</td>\n",
       "      <td>264.440</td>\n",
       "      <td>10.99</td>\n",
       "      <td>8000</td>\n",
       "    </tr>\n",
       "    <tr>\n",
       "      <th>60 months</th>\n",
       "      <td>65000.0</td>\n",
       "      <td>318.220</td>\n",
       "      <td>14.27</td>\n",
       "      <td>14500</td>\n",
       "    </tr>\n",
       "  </tbody>\n",
       "</table>\n",
       "</div>"
      ],
      "text/plain": [
       "                        annual_inc  installment  int_rate  loan_amnt\n",
       "loan_status term                                                    \n",
       "Charged Off  36 months     50000.0      262.330     12.53       8000\n",
       "             60 months     59020.0      348.385     16.02      15000\n",
       "Current      60 months     65000.0      369.210     14.65      16000\n",
       "Fully Paid   36 months     58000.0      264.440     10.99       8000\n",
       "             60 months     65000.0      318.220     14.27      14500"
      ]
     },
     "execution_count": 352,
     "metadata": {},
     "output_type": "execute_result"
    }
   ],
   "source": [
    "pd.pivot_table(loanDataset,values = ['int_rate','annual_inc','loan_amnt','installment'],index = ['loan_status','term'],aggfunc = {'int_rate':\"median\",'annual_inc':\"median\",'loan_amnt':\"median\",'installment':'median'})"
   ]
  },
  {
   "cell_type": "code",
   "execution_count": 353,
   "id": "8e499ad0",
   "metadata": {},
   "outputs": [
    {
     "data": {
      "text/plain": [
       "<Axes: xlabel='loan_status', ylabel='Experience_Years'>"
      ]
     },
     "execution_count": 353,
     "metadata": {},
     "output_type": "execute_result"
    },
    {
     "data": {
      "image/png": "[encoded data removed]",
      "text/plain": [
       "<Figure size 640x480 with 2 Axes>"
      ]
     },
     "metadata": {},
     "output_type": "display_data"
    }
   ],
   "source": [
    "#pd.pivot_table(loanDataset,values = ['int_rate','annual_inc','loan_amnt'],index = ['purpose','loan_status'],aggfunc = {'loan_status':len,'int_rate':\"mean\",'annual_inc':\"mean\",'loan_amnt':\"mean\"})\n",
    "\n",
    "ChargedOffPerState = pd.pivot_table(loanDataset, index = ['loan_status','Experience_Years'],aggfunc = {'Experience_Years':len})\n",
    "ChargedOffPerState.rename({'Experience_Years':'Count_Experience_Years'},axis = 1,inplace = True)\n",
    "ChargedOffPerState = ChargedOffPerState.reset_index()\n",
    "heatmapPivot = ChargedOffPerState.pivot(columns = \"loan_status\",index =\"Experience_Years\",values = \"Count_Experience_Years\")\n",
    "sns.heatmap(heatmapPivot, annot=True, fmt=\".1f\")\n",
    "#heatmapPivot\n",
    "\n",
    "#loanDataset"
   ]
  },
  {
   "cell_type": "code",
   "execution_count": 354,
   "id": "7db907b5",
   "metadata": {},
   "outputs": [
    {
     "data": {
      "text/plain": [
       "array(['loan_amnt', 'term', 'int_rate', 'installment', 'grade',\n",
       "       'sub_grade', 'emp_title', 'emp_length', 'home_ownership',\n",
       "       'annual_inc', 'loan_status', 'purpose', 'title', 'addr_state',\n",
       "       'dti', 'delinq_2yrs', 'earliest_cr_line', 'inq_last_6mths',\n",
       "       'mths_since_last_delinq', 'open_acc', 'pub_rec', 'revol_bal',\n",
       "       'revol_util', 'total_acc', 'initial_list_status', 'out_prncp',\n",
       "       'out_prncp_inv', 'total_pymnt', 'total_pymnt_inv',\n",
       "       'total_rec_prncp', 'total_rec_int', 'total_rec_late_fee',\n",
       "       'recoveries', 'collection_recovery_fee', 'last_pymnt_d',\n",
       "       'last_pymnt_amnt', 'last_credit_pull_d', 'pub_rec_bankruptcies',\n",
       "       'Experience_Years'], dtype=object)"
      ]
     },
     "execution_count": 354,
     "metadata": {},
     "output_type": "execute_result"
    }
   ],
   "source": [
    "loanDataset.columns.values"
   ]
  },
  {
   "cell_type": "code",
   "execution_count": 355,
   "id": "95b7bd52",
   "metadata": {},
   "outputs": [
    {
     "data": {
      "image/png": "[encoded data removed]",
      "text/plain": [
       "<Figure size 640x480 with 1 Axes>"
      ]
     },
     "metadata": {},
     "output_type": "display_data"
    }
   ],
   "source": [
    "dti_scores = pd.pivot_table(loanDataset,index = ['loan_status'],values = ['dti'],aggfunc = {'dti':\"median\"})\n",
    "dti_scores = dti_scores.reset_index()\n",
    "ax = sns.barplot(dti_scores,x = 'loan_status', y = 'dti',width = 0.4)\n",
    "for i in ax.containers:\n",
    "    ax.bar_label(i,)"
   ]
  },
  {
   "cell_type": "markdown",
   "id": "e283dd30",
   "metadata": {},
   "source": [
    "In general, people with higher DTI scores are likely to default"
   ]
  },
  {
   "cell_type": "code",
   "execution_count": 356,
   "id": "94ecf1ef",
   "metadata": {},
   "outputs": [
    {
     "data": {
      "text/plain": [
       "Text(0, 0.5, 'Percentage Split of Loan Status -->')"
      ]
     },
     "execution_count": 356,
     "metadata": {},
     "output_type": "execute_result"
    },
    {
     "data": {
      "image/png": "[encoded data removed]",
      "text/plain": [
       "<Figure size 640x480 with 1 Axes>"
      ]
     },
     "metadata": {},
     "output_type": "display_data"
    }
   ],
   "source": [
    "PurposeAgainstChargeOff = pd.DataFrame(round((loanDataset[['purpose','loan_status']].groupby(['purpose','loan_status']).size()/loanDataset[['purpose','loan_status']].groupby(['purpose']).size())*100,2))\n",
    "PurposeAgainstChargeOff = pd.pivot_table(PurposeAgainstChargeOff.reset_index(),index = ['purpose'], columns = ['loan_status'], values = 0, aggfunc = {0:\"mean\"})\n",
    "#PurposeAgainstChargeOff\n",
    "PurposeAgainstChargeOff.plot(kind = 'bar',stacked = True,color = ['red', 'skyblue', 'green'])\n",
    "# labels for x & y axis\n",
    "plt.xlabel('Purpose of Taking Loan -->')\n",
    "plt.ylabel('Percentage Split of Loan Status -->')"
   ]
  },
  {
   "cell_type": "code",
   "execution_count": 357,
   "id": "5d4bc57c",
   "metadata": {
    "scrolled": true
   },
   "outputs": [
    {
     "data": {
      "text/html": [
       "<div>\n",
       "<style scoped>\n",
       "    .dataframe tbody tr th:only-of-type {\n",
       "        vertical-align: middle;\n",
       "    }\n",
       "\n",
       "    .dataframe tbody tr th {\n",
       "        vertical-align: top;\n",
       "    }\n",
       "\n",
       "    .dataframe thead th {\n",
       "        text-align: right;\n",
       "    }\n",
       "</style>\n",
       "<table border=\"1\" class=\"dataframe\">\n",
       "  <thead>\n",
       "    <tr style=\"text-align: right;\">\n",
       "      <th>loan_status</th>\n",
       "      <th>Charged Off</th>\n",
       "      <th>Current</th>\n",
       "      <th>Fully Paid</th>\n",
       "    </tr>\n",
       "    <tr>\n",
       "      <th>purpose</th>\n",
       "      <th></th>\n",
       "      <th></th>\n",
       "      <th></th>\n",
       "    </tr>\n",
       "  </thead>\n",
       "  <tbody>\n",
       "    <tr>\n",
       "      <th>car</th>\n",
       "      <td>10.40</td>\n",
       "      <td>3.29</td>\n",
       "      <td>86.31</td>\n",
       "    </tr>\n",
       "    <tr>\n",
       "      <th>credit_card</th>\n",
       "      <td>10.14</td>\n",
       "      <td>2.07</td>\n",
       "      <td>87.78</td>\n",
       "    </tr>\n",
       "    <tr>\n",
       "      <th>debt_consolidation</th>\n",
       "      <td>14.56</td>\n",
       "      <td>3.14</td>\n",
       "      <td>82.29</td>\n",
       "    </tr>\n",
       "    <tr>\n",
       "      <th>educational</th>\n",
       "      <td>16.72</td>\n",
       "      <td>NaN</td>\n",
       "      <td>83.28</td>\n",
       "    </tr>\n",
       "    <tr>\n",
       "      <th>home_improvement</th>\n",
       "      <td>11.24</td>\n",
       "      <td>3.30</td>\n",
       "      <td>85.46</td>\n",
       "    </tr>\n",
       "    <tr>\n",
       "      <th>house</th>\n",
       "      <td>15.71</td>\n",
       "      <td>3.71</td>\n",
       "      <td>80.57</td>\n",
       "    </tr>\n",
       "    <tr>\n",
       "      <th>major_purchase</th>\n",
       "      <td>9.77</td>\n",
       "      <td>1.72</td>\n",
       "      <td>88.51</td>\n",
       "    </tr>\n",
       "    <tr>\n",
       "      <th>medical</th>\n",
       "      <td>15.04</td>\n",
       "      <td>1.86</td>\n",
       "      <td>83.10</td>\n",
       "    </tr>\n",
       "    <tr>\n",
       "      <th>moving</th>\n",
       "      <td>15.19</td>\n",
       "      <td>1.11</td>\n",
       "      <td>83.70</td>\n",
       "    </tr>\n",
       "    <tr>\n",
       "      <th>other</th>\n",
       "      <td>15.47</td>\n",
       "      <td>3.06</td>\n",
       "      <td>81.47</td>\n",
       "    </tr>\n",
       "    <tr>\n",
       "      <th>renewable_energy</th>\n",
       "      <td>17.98</td>\n",
       "      <td>1.12</td>\n",
       "      <td>80.90</td>\n",
       "    </tr>\n",
       "    <tr>\n",
       "      <th>small_business</th>\n",
       "      <td>25.73</td>\n",
       "      <td>4.29</td>\n",
       "      <td>69.98</td>\n",
       "    </tr>\n",
       "    <tr>\n",
       "      <th>vacation</th>\n",
       "      <td>14.33</td>\n",
       "      <td>1.17</td>\n",
       "      <td>84.50</td>\n",
       "    </tr>\n",
       "    <tr>\n",
       "      <th>wedding</th>\n",
       "      <td>10.10</td>\n",
       "      <td>2.31</td>\n",
       "      <td>87.60</td>\n",
       "    </tr>\n",
       "  </tbody>\n",
       "</table>\n",
       "</div>"
      ],
      "text/plain": [
       "loan_status         Charged Off  Current  Fully Paid\n",
       "purpose                                             \n",
       "car                       10.40     3.29       86.31\n",
       "credit_card               10.14     2.07       87.78\n",
       "debt_consolidation        14.56     3.14       82.29\n",
       "educational               16.72      NaN       83.28\n",
       "home_improvement          11.24     3.30       85.46\n",
       "house                     15.71     3.71       80.57\n",
       "major_purchase             9.77     1.72       88.51\n",
       "medical                   15.04     1.86       83.10\n",
       "moving                    15.19     1.11       83.70\n",
       "other                     15.47     3.06       81.47\n",
       "renewable_energy          17.98     1.12       80.90\n",
       "small_business            25.73     4.29       69.98\n",
       "vacation                  14.33     1.17       84.50\n",
       "wedding                   10.10     2.31       87.60"
      ]
     },
     "execution_count": 357,
     "metadata": {},
     "output_type": "execute_result"
    }
   ],
   "source": [
    "PurposeAgainstChargeOff"
   ]
  },
  {
   "cell_type": "markdown",
   "id": "4d299a2f",
   "metadata": {},
   "source": [
    "People taking loan for small business are more likely to default on the loan as compared to others"
   ]
  },
  {
   "cell_type": "code",
   "execution_count": 358,
   "id": "26f151f0",
   "metadata": {
    "scrolled": true
   },
   "outputs": [
    {
     "data": {
      "text/plain": [
       "[Text(0.5, 0, 'Grade -->'), Text(0, 0.5, 'Frequency of Grade -->')]"
      ]
     },
     "execution_count": 358,
     "metadata": {},
     "output_type": "execute_result"
    },
    {
     "data": {
      "image/png": "[encoded data removed]",
      "text/plain": [
       "<Figure size 640x480 with 1 Axes>"
      ]
     },
     "metadata": {},
     "output_type": "display_data"
    }
   ],
   "source": [
    "gradeWiseIncrease = pd.pivot_table(loanDataset[loanDataset['loan_status'] == 'Charged Off'],index = ['grade'], aggfunc = {'grade':len})\n",
    "gradeWiseIncrease.rename({'grade':'Count Of Grade'},inplace = True, axis = 1)\n",
    "ax = sns.barplot(gradeWiseIncrease.reset_index().sort_values(\"Count Of Grade\"),x = \"grade\",y = \"Count Of Grade\")\n",
    "ax.bar_label(ax.containers[0], fontsize=10)\n",
    "ax.set(xlabel='Grade -->', ylabel='Frequency of Grade -->')"
   ]
  },
  {
   "cell_type": "markdown",
   "id": "8a5af057",
   "metadata": {},
   "source": [
    "Within the Charged Off Category, the Grade B, seems to have the higher distribution or Grade B seem to be the one where people default the most"
   ]
  },
  {
   "cell_type": "code",
   "execution_count": 414,
   "id": "969bcc0d",
   "metadata": {},
   "outputs": [
    {
     "data": {
      "text/plain": [
       "[Text(0.5, 0, 'Frequency -->'), Text(0, 0.5, 'Years of Experience -->')]"
      ]
     },
     "execution_count": 414,
     "metadata": {},
     "output_type": "execute_result"
    },
    {
     "data": {
      "image/png": "[encoded data removed]",
      "text/plain": [
       "<Figure size 640x480 with 1 Axes>"
      ]
     },
     "metadata": {},
     "output_type": "display_data"
    }
   ],
   "source": [
    "experience_distribution = pd.pivot_table(loanDataset,index = ['Experience_Years'], aggfunc = {'Experience_Years':len}).rename({\"Experience_Years\":'Frequency Experience'},axis = 1)\n",
    "ax = sns.barplot(experience_distribution.reset_index().sort_values(\"Frequency Experience\", ascending = False),y = \"Experience_Years\",x = \"Frequency Experience\",orient = 'h',width=0.5)\n",
    "ax.bar_label(ax.containers[0], fontsize=8)\n",
    "ax.set(xlabel='Frequency -->', ylabel='Years of Experience -->')"
   ]
  },
  {
   "cell_type": "markdown",
   "id": "650e34f1",
   "metadata": {},
   "source": [
    "**The dataset contains a large number of group of people with experience between the group 1 to 3 years**"
   ]
  },
  {
   "cell_type": "code",
   "execution_count": 360,
   "id": "10f53cee",
   "metadata": {},
   "outputs": [
    {
     "data": {
      "text/plain": [
       "<Axes: xlabel='annual_inc', ylabel='Density'>"
      ]
     },
     "execution_count": 360,
     "metadata": {},
     "output_type": "execute_result"
    },
    {
     "data": {
      "image/png": "[encoded data removed]",
      "text/plain": [
       "<Figure size 640x480 with 1 Axes>"
      ]
     },
     "metadata": {},
     "output_type": "display_data"
    }
   ],
   "source": [
    "#sns.stripplot(loanDataset, x = 'emp_length', y = 'annual_inc',hue = 'loan_status')\n",
    "sns.histplot(copyLoanDatasetOutlierRemoved, x = 'annual_inc',stat = 'density',bins = 60,hue = 'loan_status')"
   ]
  },
  {
   "cell_type": "markdown",
   "id": "fa45fa41",
   "metadata": {},
   "source": [
    "categorizeByHomeOwnership = pd.pivot_table(copyLoanDatasetOutlierRemoved,index = ['home_ownership','loan_status'],aggfunc = {'loan_status':len})\n",
    "categorizeByHomeOwnership.rename({'loan_status':'Count of Category'},axis = 1,inplace = 'True')\n",
    "categorizeByHomeOwnership = categorizeByHomeOwnership.reset_index()\n",
    "categorizeByHomeOwnership = categorizeByHomeOwnership.groupby(['home_ownership','loan_status']).sum()/(categorizeByHomeOwnership.groupby(['home_ownership']).sum())\n",
    "categorizeByHomeOwnership\n",
    "categorizeByHomeOwnership.drop('loan_status',axis = 1, inplace = True)\n",
    "categorizeByHomeOwnership['Count of Category'] =  categorizeByHomeOwnership['Count of Category'] * 100\n",
    "categorizeByHomeOwnership = pd.pivot_table(categorizeByHomeOwnership.reset_index(),index = ['home_ownership'], columns = ['loan_status'], values = ['Count of Category'], aggfunc = {'Count of Category':\"sum\"})\n",
    "categorizeByHomeOwnership.plot(kind = 'bar', stacked = True, color = ['red', 'skyblue', 'green','yellow'])\n"
   ]
  },
  {
   "cell_type": "markdown",
   "id": "cb87df48",
   "metadata": {},
   "source": [
    "**Public Record of Bankrupcies**"
   ]
  },
  {
   "cell_type": "code",
   "execution_count": 361,
   "id": "4e62dfd7",
   "metadata": {},
   "outputs": [
    {
     "data": {
      "text/plain": [
       "<Axes: xlabel='Frequency of Bankruptcies', ylabel='pub_rec_bankruptcies'>"
      ]
     },
     "execution_count": 361,
     "metadata": {},
     "output_type": "execute_result"
    },
    {
     "data": {
      "image/png": "[encoded data removed]",
      "text/plain": [
       "<Figure size 640x480 with 1 Axes>"
      ]
     },
     "metadata": {},
     "output_type": "display_data"
    }
   ],
   "source": [
    "bankRuptcies = pd.pivot_table(loanDataset, index = ['pub_rec_bankruptcies'], aggfunc = {'pub_rec_bankruptcies':len})\n",
    "bankRuptcies.rename({'pub_rec_bankruptcies':'Frequency of Bankruptcies'},inplace = True, axis = 1)\n",
    "sns.barplot(bankRuptcies.reset_index(), x = 'Frequency of Bankruptcies', y = 'pub_rec_bankruptcies', width = 0.5, orient = 'h')"
   ]
  },
  {
   "cell_type": "markdown",
   "id": "23278b26",
   "metadata": {},
   "source": [
    "Almost no cases of 2 bankruptcies"
   ]
  },
  {
   "cell_type": "code",
   "execution_count": 370,
   "id": "a304173f",
   "metadata": {},
   "outputs": [],
   "source": [
    "bankRuptcies = pd.pivot_table(loanDataset,index = ['pub_rec_bankruptcies','loan_status'],aggfunc = {'loan_status':len})\n",
    "bankRuptcies.rename({'loan_status':'Frequency'}, axis = 1, inplace = True)\n",
    "bankRuptcies = bankRuptcies.reset_index()\n",
    "bankRuptcies = bankRuptcies.groupby(['pub_rec_bankruptcies','loan_status']).sum()/bankRuptcies.groupby(['pub_rec_bankruptcies']).sum()\n",
    "bankRuptcies.drop('loan_status',axis = 1, inplace = True)\n",
    "bankRuptcies['Frequency'] = bankRuptcies['Frequency'] * 100"
   ]
  },
  {
   "cell_type": "code",
   "execution_count": 379,
   "id": "27eb641e",
   "metadata": {
    "scrolled": true
   },
   "outputs": [
    {
     "data": {
      "text/plain": [
       "<Axes: xlabel='% of Value', ylabel='Public Record of Bankruptcies'>"
      ]
     },
     "execution_count": 379,
     "metadata": {},
     "output_type": "execute_result"
    },
    {
     "data": {
      "image/png": "[encoded data removed]",
      "text/plain": [
       "<Figure size 640x480 with 1 Axes>"
      ]
     },
     "metadata": {},
     "output_type": "display_data"
    }
   ],
   "source": [
    "bankRuptciesPlot = pd.pivot_table(bankRuptcies.reset_index(), index = 'pub_rec_bankruptcies', columns = ['loan_status'], values = 'loan_status')\n",
    "bankRuptciesPlot.plot(kind = 'barh', stacked = True, colormap = cm.coolwarm, xlabel = '% of Value',ylabel = 'Public Record of Bankruptcies')"
   ]
  },
  {
   "cell_type": "markdown",
   "id": "fddf45c5",
   "metadata": {},
   "source": [
    "# Impact of Public Derogatory Records "
   ]
  },
  {
   "cell_type": "code",
   "execution_count": 387,
   "id": "5d8a6452",
   "metadata": {},
   "outputs": [],
   "source": [
    "pubDerogatory = pd.pivot_table(loanDataset,index = ['pub_rec','loan_status'],aggfunc = {'loan_status':len})\n",
    "pubDerogatory.rename({'loan_status':'Frequency'}, axis = 1, inplace = True)\n",
    "pubDerogatory = pubDerogatory.reset_index()\n",
    "pubDerogatory = pubDerogatory.groupby(['pub_rec','loan_status']).sum()/pubDerogatory.groupby(['pub_rec']).sum()\n",
    "pubDerogatory.drop('loan_status',axis = 1, inplace = True)\n",
    "pubDerogatory['Frequency'] = pubDerogatory['Frequency'] * 100"
   ]
  },
  {
   "cell_type": "code",
   "execution_count": 397,
   "id": "d9c9be7e",
   "metadata": {},
   "outputs": [
    {
     "data": {
      "text/plain": [
       "<Axes: xlabel='% of Value', ylabel='Public Record of Derogatory Records'>"
      ]
     },
     "execution_count": 397,
     "metadata": {},
     "output_type": "execute_result"
    },
    {
     "data": {
      "image/png": "[encoded data removed]",
      "text/plain": [
       "<Figure size 640x480 with 1 Axes>"
      ]
     },
     "metadata": {},
     "output_type": "display_data"
    }
   ],
   "source": [
    "pubDerogatoryPlot = pd.pivot_table(pubDerogatory.reset_index(), index = 'pub_rec', columns = ['loan_status'], values = 'loan_status')\n",
    "pubDerogatoryPlot.plot(kind = 'barh', stacked = True, colormap = cm.RdYlBu, xlabel = '% of Value',ylabel = 'Public Record of Derogatory Records')"
   ]
  },
  {
   "cell_type": "markdown",
   "id": "40a5fbb5",
   "metadata": {},
   "source": [
    "# Impact of Addr State on Loan Status"
   ]
  },
  {
   "cell_type": "code",
   "execution_count": 416,
   "id": "01f16d61",
   "metadata": {
    "scrolled": true
   },
   "outputs": [
    {
     "data": {
      "text/plain": [
       "[Text(0.5, 0, 'Frequency -->'), Text(0, 0.5, 'Name of State -->')]"
      ]
     },
     "execution_count": 416,
     "metadata": {},
     "output_type": "execute_result"
    },
    {
     "data": {
      "image/png": "[encoded data removed]",
      "text/plain": [
       "<Figure size 640x480 with 1 Axes>"
      ]
     },
     "metadata": {},
     "output_type": "display_data"
    }
   ],
   "source": [
    "AddressSplit = pd.pivot_table(loanDataset, index = ['addr_state'], aggfunc = {'addr_state':len})\n",
    "AddressSplit.rename({'addr_state':'Frequency'}, inplace = True, axis = 1)\n",
    "AddressSplit = AddressSplit.reset_index()\n",
    "AddressSplit = AddressSplit.sort_values(\"Frequency\", ascending = False)\n",
    "ax = sns.barplot(AddressSplit.head(15), x = 'Frequency', y = 'addr_state')\n",
    "ax.bar_label(ax.containers[0], fontsize=7)\n",
    "ax.set(xlabel='Frequency -->', ylabel='Name of State -->')"
   ]
  },
  {
   "cell_type": "markdown",
   "id": "17309627",
   "metadata": {},
   "source": [
    "Most of the data are from the CA"
   ]
  }
 ],
 "metadata": {
  "kernelspec": {
   "display_name": "Python 3 (ipykernel)",
   "language": "python",
   "name": "python3"
  },
  "language_info": {
   "codemirror_mode": {
    "name": "ipython",
    "version": 3
   },
   "file_extension": ".py",
   "mimetype": "text/x-python",
   "name": "python",
   "nbconvert_exporter": "python",
   "pygments_lexer": "ipython3",
   "version": "3.11.5"
  }
 },
 "nbformat": 4,
 "nbformat_minor": 5
}
